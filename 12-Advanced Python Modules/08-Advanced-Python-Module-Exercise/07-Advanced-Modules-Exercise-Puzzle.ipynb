{
 "cells": [
  {
   "cell_type": "markdown",
   "metadata": {},
   "source": [
    "___\n",
    "\n",
    "<a href='https://www.udemy.com/user/joseportilla/'><img src='../../Pierian_Data_Logo.png'/></a>\n",
    "___\n",
    "<center><em>Content Copyright by Pierian Data</em></center>"
   ]
  },
  {
   "cell_type": "markdown",
   "metadata": {},
   "source": [
    "# Advanced Modules Exercise Puzzle\n",
    "\n",
    "It's time to test your new skills, this puzzle project will combine multiple skills sets, including unzipping files with Python, using os module to automatically search through lots of files.\n",
    "\n",
    "## Your Goal\n",
    "\n",
    "This is a puzzle, so we don't want to give you too much guidance and instead have you figure out things on your own.\n",
    "\n",
    "There is a .zip file called 'unzip_me_for_instructions.zip', unzip it, open the .txt file with Python, read the instructions and see if you can figure out what you need to do!\n",
    "\n",
    "**If you get stuck or don't know where to start, here is a [guide/hints](https://docs.google.com/document/d/1JxydUr4n4fSR0EwwuwT-aHia-yPK6r-oTBuVT2sqheo/edit?usp=sharing)**"
   ]
  },
  {
   "cell_type": "code",
   "execution_count": 20,
   "metadata": {},
   "outputs": [],
   "source": [
    "import shutil\n",
    "import os\n",
    "import re\n",
    "import pdb"
   ]
  },
  {
   "cell_type": "code",
   "execution_count": 7,
   "metadata": {},
   "outputs": [
    {
     "name": "stdout",
     "output_type": "stream",
     "text": [
      "07-Advanced-Modules-Exercise-Puzzle.ipynb\r\n",
      "08-Advanced-Modules-Exercise-Solutions.ipynb\r\n",
      "\u001b[1m\u001b[36mextracted_content\u001b[m\u001b[m/\r\n",
      "unzip_me_for_instructions.zip\r\n"
     ]
    }
   ],
   "source": [
    "ls"
   ]
  },
  {
   "cell_type": "code",
   "execution_count": 3,
   "metadata": {},
   "outputs": [],
   "source": [
    "output_filename = 'unzipped'"
   ]
  },
  {
   "cell_type": "code",
   "execution_count": 8,
   "metadata": {},
   "outputs": [],
   "source": [
    "shutil.unpack_archive('/Users/jeffreysun/Desktop/Complete-Python-3-Bootcamp/12-Advanced Python Modules/08-Advanced-Python-Module-Exercise/unzip_me_for_instructions.zip', output_filename, 'zip')"
   ]
  },
  {
   "cell_type": "code",
   "execution_count": 9,
   "metadata": {},
   "outputs": [
    {
     "name": "stdout",
     "output_type": "stream",
     "text": [
      "07-Advanced-Modules-Exercise-Puzzle.ipynb\r\n",
      "08-Advanced-Modules-Exercise-Solutions.ipynb\r\n",
      "\u001b[1m\u001b[36mextracted_content\u001b[m\u001b[m/\r\n",
      "unzip_me_for_instructions.zip\r\n",
      "\u001b[1m\u001b[36munzipped\u001b[m\u001b[m/\r\n"
     ]
    }
   ],
   "source": [
    "ls"
   ]
  },
  {
   "cell_type": "code",
   "execution_count": 13,
   "metadata": {},
   "outputs": [
    {
     "ename": "AttributeError",
     "evalue": "'generator' object has no attribute 'next'",
     "output_type": "error",
     "traceback": [
      "\u001b[0;31m---------------------------------------------------------------------------\u001b[0m",
      "\u001b[0;31mAttributeError\u001b[0m                            Traceback (most recent call last)",
      "\u001b[0;32m<ipython-input-13-815c0c78c2b3>\u001b[0m in \u001b[0;36m<module>\u001b[0;34m\u001b[0m\n\u001b[0;32m----> 1\u001b[0;31m \u001b[0mos\u001b[0m\u001b[0;34m.\u001b[0m\u001b[0mwalk\u001b[0m\u001b[0;34m(\u001b[0m\u001b[0;34m'unzipped/'\u001b[0m\u001b[0;34m)\u001b[0m\u001b[0;34m.\u001b[0m\u001b[0mnext\u001b[0m\u001b[0;34m\u001b[0m\u001b[0;34m\u001b[0m\u001b[0m\n\u001b[0m",
      "\u001b[0;31mAttributeError\u001b[0m: 'generator' object has no attribute 'next'"
     ]
    }
   ],
   "source": [
    "os.walk('unzipped/').next"
   ]
  },
  {
   "cell_type": "code",
   "execution_count": 15,
   "metadata": {},
   "outputs": [
    {
     "name": "stdout",
     "output_type": "stream",
     "text": [
      "('unzipped/', ['extracted_content'], [])\n",
      "('unzipped/extracted_content', ['Three', 'One', 'Two', 'Five', 'Four'], ['Instructions.txt'])\n",
      "('unzipped/extracted_content/Three', [], ['VSXFSTABZDY.txt', 'YDQFMWXOUMW.txt', 'YQBIUHSUEVW.txt', 'XAJMCPEWFNI.txt', 'ZXEZRQXZNPG.txt', 'ZKQJXAYKPVD.txt', 'XVMPVSVYKFR.txt', 'XHZPVUQTXIO.txt', 'YYIZGBTQHZP.txt', 'VCFJCGJFBIH.txt', 'VVHFVZUNLOO.txt', 'VVKGWLRMHLU.txt', 'XJCWENFFGHB.txt', 'XFHJOTNPEJG.txt', 'ZOWVXWPOGWP.txt', 'ZXIBJMPROKW.txt', 'VAQIJTDOFUJ.txt', 'YCESZHJDBXH.txt', 'YQRNCMNFFHW.txt', 'ZEZKKRBIZEB.txt'])\n",
      "('unzipped/extracted_content/One', [], ['LFEATJAAYDC.txt', 'KCXGNQCZBLO.txt', 'KFIUZFERLET.txt', 'LIFDHOFKWOI.txt', 'HRQFTHKVJTL.txt', 'PLYCGPVEAWO.txt', 'JEHBLZPUPSP.txt', 'PDJMSMNKIRM.txt', 'LPNDVDXPZIG.txt', 'HMNZTLIFGPD.txt', 'KNBSKDREHQU.txt', 'KTXDHIOKAUI.txt', 'JQUOBKFUACN.txt', 'HFUTPPAXDIS.txt', 'PTOBBCJYURJ.txt', 'LHODFIKVTQA.txt', 'JLTXKIGCWDL.txt', 'HDOHZHFSTTK.txt', 'KMMLGJOWLGI.txt', 'JDLRVFCXYLU.txt', 'PHWAVPEKAER.txt', 'LDGOCUQJNNS.txt', 'JTHSNBNPQSE.txt', 'HVUTZEVMSBW.txt', 'PQNVCVJINAR.txt'])\n",
      "('unzipped/extracted_content/Two', [], ['HEORIXOTANT.txt', 'SOFUJYXTIMK.txt', 'HMZXPBOPRAE.txt', 'OMWIMVRCMYM.txt', 'OHZOUOSFJQC.txt', 'OKWFOOYTXFU.txt', 'LVMBINRBJXL.txt', 'LSQSTGPIGIY.txt', 'OIHMLGMWTHL.txt', 'GQTJJORZBXY.txt', 'HARDNJGDRBC.txt', 'OYMAGXAGWHJ.txt', 'HMUTDOVNYTV.txt', 'LYZEQCVYNEZ.txt', 'GMMQQUBMJNR.txt', 'GTOTCIWMDBY.txt', 'LULTNYAQEJG.txt', 'HTOHSTYXTCO.txt', 'SJMJLDGPBSJ.txt', 'LCJZYDHBFRM.txt', 'SPDZYGDHEWO.txt', 'SIKFPPLCJDN.txt', 'GXYSEPAFRTP.txt', 'SWOFXREEHWA.txt', 'GKQBQRCTNNK.txt'])\n",
      "('unzipped/extracted_content/Five', [], ['ESIZWBHMGDP.txt', 'BUGKBZWRRVI.txt', 'ARLKFCWIAJE.txt', 'EYTCGIOYWIW.txt', 'APJKSRITGGX.txt', 'AXJGVPVEFAS.txt', 'CSCLFZCDYYC.txt', 'CAHBEVSVDDN.txt', 'BVBURZZCAPR.txt', 'ETCUEXWNBCF.txt', 'CRFSDGYFSHA.txt', 'DYOPIIVMZOO.txt', 'DDLASODUVPX.txt', 'CXBVCTRBBIE.txt', 'COMGMZBJAYE.txt', 'EAAOEPSAWMQ.txt', 'DZUWWXYIAEL.txt', 'EIPWXMQZJKU.txt', 'DHZBAAYEADM.txt', 'BSKJDRNEZQM.txt', 'AQKATDFGXTS.txt', 'BTYWAHLHKBM.txt', 'AEITMYIRQLP.txt', 'BNUQEHCFRTG.txt', 'DQPZQLBCJYP.txt'])\n",
      "('unzipped/extracted_content/Four', [], ['WHTOHQUWXIN.txt', 'QDDETWBHJYC.txt', 'WNJISWPEBRS.txt', 'WFSKPTXPFCH.txt', 'EMTGPSXQEJX.txt', 'TWUOYFCCYBQ.txt', 'QTDYYIFPHAU.txt', 'TAKNAVDMZKV.txt', 'RYNXFYXMKHG.txt', 'ROICPTWKXDX.txt', 'QCWCFLKNZMN.txt', 'EXVQSVBQQQH.txt', 'THPNEGKTJWI.txt', 'TJFMLJODVAD.txt', 'QCTCKDIBBVG.txt', 'TKCZSFQNJTX.txt', 'WXDJDOGZEHN.txt', 'QVNJULGXNUM.txt', 'RSXOTNGKBML.txt', 'EPRNUHRSESC.txt', 'ECIOBYCDVFI.txt', 'RXDARIDGKBF.txt', 'REAXWSOIQDY.txt', 'WYDLGSGGXKV.txt', 'ESDIZXHYCVY.txt'])\n"
     ]
    }
   ],
   "source": [
    "for item in os.walk('unzipped/'):\n",
    "    print(item)"
   ]
  },
  {
   "cell_type": "code",
   "execution_count": 17,
   "metadata": {},
   "outputs": [
    {
     "name": "stdout",
     "output_type": "stream",
     "text": [
      "Good work on unzipping the file!\n",
      "You should now see 5 folders, each with a lot of random .txt files.\n",
      "Within one of these text files is a telephone number formated ###-###-#### \n",
      "Use the Python os module and regular expressions to iterate through each file, open it, and search for a telephone number.\n",
      "Good luck!\n"
     ]
    }
   ],
   "source": [
    "with open('unzipped/extracted_content/Instructions.txt', 'r') as file:\n",
    "    print(file.read())"
   ]
  },
  {
   "cell_type": "code",
   "execution_count": 23,
   "metadata": {},
   "outputs": [
    {
     "data": {
      "text/plain": [
       "['719-266-2837']"
      ]
     },
     "execution_count": 23,
     "metadata": {},
     "output_type": "execute_result"
    }
   ],
   "source": [
    "tele_nums = list()\n",
    "phone_pattern = re.compile(r'\\d{3}-\\d{3}-\\d{4}')\n",
    "for folder, subfolder, files in os.walk('unzipped/extracted_content'):\n",
    "    for filename in files:\n",
    "        with open(os.path.join(folder, filename), 'r') as file:\n",
    "            text = file.read()\n",
    "            match = re.search(phone_pattern, text)\n",
    "            if match:\n",
    "                tele_nums.append(match.group())\n",
    "tele_nums"
   ]
  },
  {
   "cell_type": "code",
   "execution_count": null,
   "metadata": {},
   "outputs": [],
   "source": []
  }
 ],
 "metadata": {
  "anaconda-cloud": {},
  "kernelspec": {
   "display_name": "Python 3",
   "language": "python",
   "name": "python3"
  },
  "language_info": {
   "codemirror_mode": {
    "name": "ipython",
    "version": 3
   },
   "file_extension": ".py",
   "mimetype": "text/x-python",
   "name": "python",
   "nbconvert_exporter": "python",
   "pygments_lexer": "ipython3",
   "version": "3.8.5"
  }
 },
 "nbformat": 4,
 "nbformat_minor": 2
}
